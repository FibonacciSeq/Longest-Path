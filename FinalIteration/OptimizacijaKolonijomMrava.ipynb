{
 "cells": [
  {
   "cell_type": "code",
   "execution_count": 1,
   "id": "befcd4f1-72dc-4f54-8171-abb532dd4924",
   "metadata": {},
   "outputs": [],
   "source": [
    "import numpy as np\n",
    "from tqdm import tqdm\n",
    "import networkx as nx\n",
    "import matplotlib.pyplot as plt\n",
    "import random\n",
    "import time"
   ]
  },
  {
   "cell_type": "code",
   "execution_count": 2,
   "id": "acf379d1-4229-4e9a-bf53-5fcff23334e7",
   "metadata": {},
   "outputs": [],
   "source": [
    "#Funcion that loads graph from file\n",
    "def inputGraph(filePath):\n",
    "    graph = nx.read_graphml(filePath)\n",
    "    return graph"
   ]
  },
  {
   "cell_type": "code",
   "execution_count": 3,
   "id": "32fb041c-f7f2-4267-a5d3-670f53cbd2c2",
   "metadata": {},
   "outputs": [],
   "source": [
    "class ACO:\n",
    "    def __init__(self, graph, nodes_info, adjacency_info, ants, alpha, beta, rho, q, iterations):\n",
    "        #Information about nodes\n",
    "        self.nodes_info = nodes_info\n",
    "        #Loaded graph\n",
    "        self.graph = graph\n",
    "        #Adjacency between nodes\n",
    "        self.adjacency_info = adjacency_info\n",
    "        #Number of ants\n",
    "        self.ants = ants\n",
    "        self.alpha = alpha\n",
    "        self.beta = beta\n",
    "        self.rho = rho\n",
    "        self.q = q\n",
    "        #Number of iterations\n",
    "        self.iterations = iterations\n",
    "        #Start value for feromone\n",
    "        self.pheromone = {(u, v): 0.1 for u, v in self.graph.edges()}  # Initialize pheromone levels for each edge\n",
    "        #Best possible path\n",
    "        self.best_path = None\n",
    "        #Lenght of best path\n",
    "        self.best_path_length = float('-inf')\n",
    "\n",
    "    #Funcion that starts program\n",
    "    def run(self):\n",
    "        for i in tqdm(range(self.iterations), desc='Progress'):\n",
    "            paths, start_node = self.generate_paths()\n",
    "            self.update_pheromone(paths, start_node)\n",
    "            self.update_best_path(paths, start_node)\n",
    "        return self.best_path\n",
    "    #Function that generates paths from loaded graph\n",
    "    def generate_paths(self):\n",
    "        paths = []\n",
    "        for _ in range(self.ants):\n",
    "            start_node = random.choice([node for node, _ in self.nodes_info])\n",
    "            path = [start_node]\n",
    "            visited = {start_node}\n",
    "            while len(path) < len(self.graph.nodes()):\n",
    "                next_node = self.choose_next_node(path,visited)\n",
    "                if next_node is None:\n",
    "                    paths.append(path)\n",
    "                    break\n",
    "                path.append(next_node)\n",
    "                visited.add(next_node)\n",
    "            \n",
    "        return paths, start_node\n",
    "\n",
    "    #Funcion that selects nest node to continue\n",
    "    def choose_next_node(self, path, visited_nodes):\n",
    "        current_node = path[-1]\n",
    "        available_nodes = [node for node in self.graph.neighbors(current_node) if node not in visited_nodes]\n",
    "        if not available_nodes:\n",
    "            return None\n",
    "        next_node = random.choice(available_nodes)\n",
    "        \n",
    "        return next_node\n",
    "\n",
    "    #This funcion calculates probability for next edge, for path\n",
    "    def calculate_probability(self, current_node, next_node):\n",
    "        pheromone = self.pheromone.get((current_node, next_node), 0.1)  # Default to a small pheromone level if no edge exists\n",
    "        distance = 1 / self.graph[current_node][next_node]['weight']  # Inverse of edge length\n",
    "        probability = pheromone ** self.alpha * distance ** self.beta\n",
    "        return probability\n",
    "\n",
    "    #Here we update pheromone \n",
    "    def update_pheromone(self, paths, start_node):\n",
    "        for path in paths:\n",
    "            first_node = True\n",
    "            current_node = start_node\n",
    "            previous_node = start_node\n",
    "            for node in path:\n",
    "                if first_node:\n",
    "                    current_node = node\n",
    "                    first_node = False\n",
    "                    continue\n",
    "                previous_node = current_node\n",
    "                current_node = node\n",
    "                if (str(previous_node), str(current_node)) in self.pheromone:\n",
    "                    self.pheromone[(str(previous_node), str(current_node))] += self.q / len(paths)\n",
    "                    self.pheromone[(str(previous_node), str(current_node))] *= (1 - self.rho)\n",
    "                else:\n",
    "                    self.pheromone[(str(current_node), str(previous_node))] += self.q / len(paths)\n",
    "                    self.pheromone[(str(current_node), str(previous_node))] *= (1 - self.rho)\n",
    "    #Updateing best possible path      \n",
    "    def update_best_path(self, paths, start_node):\n",
    "        for path in paths:\n",
    "            path_length = len(path) - 1\n",
    "            if path_length > self.best_path_length:\n",
    "                self.best_path_length = path_length\n",
    "                self.best_path = path\n",
    "\n",
    "    #Funcion that plots graph\n",
    "    def plot_graph(self):\n",
    "        first_node = True\n",
    "        current_node = 0\n",
    "        previous_node = 0\n",
    "        edgelist = []\n",
    "        for node in self.best_path:\n",
    "            if first_node:\n",
    "                current_node = node\n",
    "                first_node = False\n",
    "                continue\n",
    "            previous_node = current_node\n",
    "            current_node = node\n",
    "            edgelist.append((str(previous_node), str(current_node)))\n",
    "        pos = nx.spring_layout(self.graph)\n",
    "        nx.draw(self.graph, pos, with_labels=True)\n",
    "        plt.show()\n",
    "        nx.draw_networkx_edges(self.graph, pos, edgelist=edgelist, edge_color='r')\n",
    "        plt.show()"
   ]
  },
  {
   "cell_type": "code",
   "execution_count": 8,
   "id": "87f5754b-7674-4252-885a-59268bbc0db7",
   "metadata": {},
   "outputs": [
    {
     "name": "stdout",
     "output_type": "stream",
     "text": [
      "Nodes:  5\n"
     ]
    },
    {
     "name": "stderr",
     "output_type": "stream",
     "text": [
      "Progress: 100%|██████████| 2000/2000 [00:00<00:00, 2535.51it/s]\n"
     ]
    },
    {
     "name": "stdout",
     "output_type": "stream",
     "text": [
      "0.7891605000004347s\n"
     ]
    },
    {
     "data": {
      "image/png": "[encoded data removed]",
      "text/plain": [
       "<Figure size 640x480 with 1 Axes>"
      ]
     },
     "metadata": {},
     "output_type": "display_data"
    },
    {
     "data": {
      "image/png": "[encoded data removed]",
      "text/plain": [
       "<Figure size 640x480 with 1 Axes>"
      ]
     },
     "metadata": {},
     "output_type": "display_data"
    },
    {
     "name": "stdout",
     "output_type": "stream",
     "text": [
      "['1', '2', '3', '4']\n",
      "4\n"
     ]
    }
   ],
   "source": [
    "graph = inputGraph('test1.graphml')\n",
    "print('Nodes: ', len(graph.edges))\n",
    "nodes_info = list(graph.nodes(data=True))\n",
    "adjacency_info = list(graph.adjacency())\n",
    "ants = 100\n",
    "alpha = 1\n",
    "beta = 5\n",
    "rho = 0.1\n",
    "q = 100\n",
    "iterations = 2000\n",
    "aco = ACO(graph, nodes_info, adjacency_info, ants, alpha, beta, rho, q, iterations)\n",
    "start_time = time.perf_counter()\n",
    "best_path = aco.run()\n",
    "end_time = time.perf_counter()\n",
    "print(f'{end_time - start_time}s')\n",
    "plot_graph = aco.plot_graph()\n",
    "print(best_path)\n",
    "print(len(best_path))"
   ]
  },
  {
   "cell_type": "code",
   "execution_count": null,
   "id": "e03dfa89",
   "metadata": {},
   "outputs": [],
   "source": []
  }
 ],
 "metadata": {
  "kernelspec": {
   "display_name": "Python 3 (ipykernel)",
   "language": "python",
   "name": "python3"
  },
  "language_info": {
   "codemirror_mode": {
    "name": "ipython",
    "version": 3
   },
   "file_extension": ".py",
   "mimetype": "text/x-python",
   "name": "python",
   "nbconvert_exporter": "python",
   "pygments_lexer": "ipython3",
   "version": "3.12.6"
  }
 },
 "nbformat": 4,
 "nbformat_minor": 5
}
