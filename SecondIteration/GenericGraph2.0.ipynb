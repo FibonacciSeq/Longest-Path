{
 "cells": [
  {
   "cell_type": "code",
   "execution_count": 13,
   "id": "2eb3ba37-3d82-4fb9-9a45-dd10f088b707",
   "metadata": {},
   "outputs": [
    {
     "name": "stdout",
     "output_type": "stream",
     "text": [
      "Random graph with 35 nodes and connections has been generated and saved to random_graph.graphml.\n"
     ]
    }
   ],
   "source": [
    "import networkx as nx\n",
    "import random\n",
    "\n",
    "def generate_random_graph(num_nodes, max_x, max_y, edge_probability):\n",
    "    graph = nx.Graph()\n",
    "    # Add nodes with random 'x' and 'y' coordinates\n",
    "    for i in range(num_nodes):\n",
    "        x = random.uniform(0, max_x)\n",
    "        y = random.uniform(0, max_y)\n",
    "        graph.add_node(i, x=x, y=y)\n",
    "    # Add edges with a certain probability\n",
    "    for u in range(num_nodes):\n",
    "        for v in range(u + 1, num_nodes):\n",
    "            if random.random() < edge_probability:\n",
    "                graph.add_edge(u, v)\n",
    "    return graph\n",
    "\n",
    "def write_graph_to_file(graph, file_path):\n",
    "    nx.write_graphml(graph, file_path)\n",
    "\n",
    "# Parameters for graph generation\n",
    "num_nodes = 35\n",
    "max_x = 50\n",
    "max_y = 50\n",
    "edge_probability = 0.1  # Adjust this probability as needed\n",
    "\n",
    "# Generate the random graph\n",
    "graph = generate_random_graph(num_nodes, max_x, max_y, edge_probability)\n",
    "\n",
    "# File path to save the GraphML file\n",
    "file_path = \"random_graph.graphml\"\n",
    "\n",
    "# Write the graph to the GraphML file\n",
    "write_graph_to_file(graph, file_path)\n",
    "\n",
    "print(f\"Random graph with {num_nodes} nodes and connections has been generated and saved to {file_path}.\")\n"
   ]
  },
  {
   "cell_type": "code",
   "execution_count": null,
   "id": "1f8df7e1-a9ce-41fe-bd5c-6a768afe942c",
   "metadata": {},
   "outputs": [],
   "source": []
  }
 ],
 "metadata": {
  "kernelspec": {
   "display_name": "Python 3 (ipykernel)",
   "language": "python",
   "name": "python3"
  },
  "language_info": {
   "codemirror_mode": {
    "name": "ipython",
    "version": 3
   },
   "file_extension": ".py",
   "mimetype": "text/x-python",
   "name": "python",
   "nbconvert_exporter": "python",
   "pygments_lexer": "ipython3",
   "version": "3.11.6"
  }
 },
 "nbformat": 4,
 "nbformat_minor": 5
}
