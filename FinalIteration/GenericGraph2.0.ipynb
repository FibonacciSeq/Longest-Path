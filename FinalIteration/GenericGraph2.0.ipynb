{
 "cells": [
  {
   "cell_type": "code",
   "execution_count": 9,
   "id": "2eb3ba37-3d82-4fb9-9a45-dd10f088b707",
   "metadata": {},
   "outputs": [
    {
     "name": "stdout",
     "output_type": "stream",
     "text": [
      "Random graph with 150 nodes and 152 edges has been generated and saved to test5.graphml.\n"
     ]
    }
   ],
   "source": [
    "import networkx as nx\n",
    "import random\n",
    "\n",
    "def generate_random_graph(num_nodes, max_x, max_y, edge_probability):\n",
    "    graph = nx.Graph()\n",
    "    \n",
    "    # Add nodes with random x and y coordinates\n",
    "    for node_id in range(num_nodes):\n",
    "        x = random.uniform(0, max_x)\n",
    "        y = random.uniform(0, max_y)\n",
    "        graph.add_node(node_id, x=x, y=y)\n",
    "    \n",
    "\n",
    "    nodes = list(graph.nodes())\n",
    "    for node in nodes:\n",
    "        other_node = random.choice([n for n in nodes if n != node and not graph.has_edge(node, n)])\n",
    "        graph.add_edge(node, other_node)\n",
    "\n",
    "    # Add edges based on probability\n",
    "    for u in graph.nodes():\n",
    "        for v in graph.nodes():\n",
    "            if u != v and random.random() < edge_probability:\n",
    "                graph.add_edge(u, v)\n",
    "    \n",
    "    return graph\n",
    "\n",
    "\n",
    "def write_graph_to_file(graph, file_path):\n",
    "    # Remove edge weights\n",
    "    for u, v in graph.edges():\n",
    "        graph[u][v]['weight'] = 1\n",
    "    # Remove unnecessary node attributes\n",
    "    for node in graph.nodes():\n",
    "        for attr in list(graph.nodes[node].keys()):\n",
    "            if attr != 'x' and attr != 'y':\n",
    "                del graph.nodes[node][attr]\n",
    "    # Write the graph to the GraphML file\n",
    "    nx.write_graphml(graph, file_path)\n",
    "\n",
    "# Parameters for graph generation\n",
    "num_nodes = 150\n",
    "max_x = 50\n",
    "max_y = 50\n",
    "edge_probability = 0.0001 # Adjust this probability as needed\n",
    "\n",
    "# Generate the random graph\n",
    "graph = generate_random_graph(num_nodes, max_x, max_y, edge_probability)\n",
    "\n",
    "# File path to save the GraphML file\n",
    "file_path = \"test5.graphml\"\n",
    "\n",
    "# Write the graph to the GraphML file\n",
    "write_graph_to_file(graph, file_path)\n",
    "\n",
    "print(f\"Random graph with {num_nodes} nodes and {len(graph.edges)} edges has been generated and saved to {file_path}.\")"
   ]
  },
  {
   "cell_type": "code",
   "execution_count": null,
   "id": "531c2516",
   "metadata": {},
   "outputs": [],
   "source": []
  }
 ],
 "metadata": {
  "kernelspec": {
   "display_name": "Python 3 (ipykernel)",
   "language": "python",
   "name": "python3"
  },
  "language_info": {
   "codemirror_mode": {
    "name": "ipython",
    "version": 3
   },
   "file_extension": ".py",
   "mimetype": "text/x-python",
   "name": "python",
   "nbconvert_exporter": "python",
   "pygments_lexer": "ipython3",
   "version": "3.12.6"
  }
 },
 "nbformat": 4,
 "nbformat_minor": 5
}
