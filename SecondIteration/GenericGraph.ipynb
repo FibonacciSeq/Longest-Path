{
 "cells": [
  {
   "cell_type": "code",
   "execution_count": 21,
   "id": "1503252f-e98c-4a47-8711-4287e7472b3f",
   "metadata": {},
   "outputs": [],
   "source": [
    "import networkx as nx\n",
    "# Generate a random graph\n",
    "graph = nx.erdos_renyi_graph(1000, 0.02)\n",
    "# Set all edge weights to 1\n",
    "for u, v in graph.edges():\n",
    "    graph[u][v]['weight'] = 1\n",
    "\n",
    "# Write the graph to a file\n",
    "nx.write_graphml(graph, \"large_graph_with_weights.graphml\")"
   ]
  },
  {
   "cell_type": "code",
   "execution_count": null,
   "id": "393e5741-ae0c-4647-b0ad-ce17f468fe5d",
   "metadata": {},
   "outputs": [],
   "source": []
  }
 ],
 "metadata": {
  "kernelspec": {
   "display_name": "Python 3 (ipykernel)",
   "language": "python",
   "name": "python3"
  },
  "language_info": {
   "codemirror_mode": {
    "name": "ipython",
    "version": 3
   },
   "file_extension": ".py",
   "mimetype": "text/x-python",
   "name": "python",
   "nbconvert_exporter": "python",
   "pygments_lexer": "ipython3",
   "version": "3.11.6"
  }
 },
 "nbformat": 4,
 "nbformat_minor": 5
}
