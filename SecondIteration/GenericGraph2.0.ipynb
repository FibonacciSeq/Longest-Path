{
 "cells": [
  {
   "cell_type": "code",
   "execution_count": 24,
   "id": "2eb3ba37-3d82-4fb9-9a45-dd10f088b707",
   "metadata": {},
   "outputs": [
    {
     "name": "stdout",
     "output_type": "stream",
     "text": [
      "Random graph with 30 nodes and 40 edges has been generated and saved to test1.graphml.\n"
     ]
    }
   ],
   "source": [
    "import networkx as nx\n",
    "\n",
    "def write_graph_to_file(graph, file_path):\n",
    "    # Remove edge weights\n",
    "    for u, v in graph.edges():\n",
    "        graph[u][v]['weight'] = 1\n",
    "    # Remove unnecessary node attributes\n",
    "    for node in graph.nodes():\n",
    "        for attr in list(graph.nodes[node].keys()):\n",
    "            if attr != 'x' and attr != 'y':\n",
    "                del graph.nodes[node][attr]\n",
    "    # Write the graph to the GraphML file\n",
    "    nx.write_graphml(graph, file_path)\n",
    "\n",
    "# Parameters for graph generation\n",
    "num_nodes = 30\n",
    "max_x = 50\n",
    "max_y = 50\n",
    "edge_probability = 0.1  # Adjust this probability as needed\n",
    "\n",
    "# Generate the random graph\n",
    "graph = generate_random_graph(num_nodes, max_x, max_y, edge_probability)\n",
    "\n",
    "# File path to save the GraphML file\n",
    "file_path = \"test1.graphml\"\n",
    "\n",
    "# Write the graph to the GraphML file\n",
    "write_graph_to_file(graph, file_path)\n",
    "\n",
    "print(f\"Random graph with {num_nodes} nodes and {len(graph.edges)} edges has been generated and saved to {file_path}.\")"
   ]
  },
  {
   "cell_type": "code",
   "execution_count": null,
   "id": "1f8df7e1-a9ce-41fe-bd5c-6a768afe942c",
   "metadata": {},
   "outputs": [],
   "source": []
  }
 ],
 "metadata": {
  "kernelspec": {
   "display_name": "Python 3 (ipykernel)",
   "language": "python",
   "name": "python3"
  },
  "language_info": {
   "codemirror_mode": {
    "name": "ipython",
    "version": 3
   },
   "file_extension": ".py",
   "mimetype": "text/x-python",
   "name": "python",
   "nbconvert_exporter": "python",
   "pygments_lexer": "ipython3",
   "version": "3.11.6"
  }
 },
 "nbformat": 4,
 "nbformat_minor": 5
}
